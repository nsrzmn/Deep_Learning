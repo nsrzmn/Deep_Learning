{
  "nbformat": 4,
  "nbformat_minor": 0,
  "metadata": {
    "colab": {
      "name": "Finding weights (w & b) using deeplearning.ipynb",
      "provenance": [],
      "collapsed_sections": []
    },
    "kernelspec": {
      "name": "python3",
      "display_name": "Python 3"
    }
  },
  "cells": [
    {
      "cell_type": "markdown",
      "metadata": {
        "id": "YQN56EHoiPXC",
        "colab_type": "text"
      },
      "source": [
        "**Finding weights ( w & b ) using deep learning**"
      ]
    },
    {
      "cell_type": "code",
      "metadata": {
        "id": "kWuaycVwiEJj",
        "colab_type": "code",
        "colab": {}
      },
      "source": [
        "from tensorflow.keras.models import Sequential\n",
        "from tensorflow.keras.layers import Dense\n",
        "from tensorflow.keras.optimizers import Adam, SGD"
      ],
      "execution_count": 3,
      "outputs": []
    },
    {
      "cell_type": "code",
      "metadata": {
        "id": "K_4DqTz6io8r",
        "colab_type": "code",
        "colab": {}
      },
      "source": [
        "import numpy as np\n",
        "import pandas as pd\n",
        "import matplotlib.pyplot as plt\n"
      ],
      "execution_count": 4,
      "outputs": []
    },
    {
      "cell_type": "code",
      "metadata": {
        "id": "XEZQqtIfjtmV",
        "colab_type": "code",
        "colab": {
          "base_uri": "https://localhost:8080/",
          "height": 374
        },
        "outputId": "8035a1f3-0b3b-49ef-c373-a709ce9b39bd"
      },
      "source": [
        "df = pd.read_csv(\"https://raw.githubusercontent.com/EnggQasim/UIT/master/Deep_Learning/Chapter1/data/weight-height.csv\")\n",
        "df.info()\n",
        "df.head()"
      ],
      "execution_count": 7,
      "outputs": [
        {
          "output_type": "stream",
          "text": [
            "<class 'pandas.core.frame.DataFrame'>\n",
            "RangeIndex: 10000 entries, 0 to 9999\n",
            "Data columns (total 3 columns):\n",
            " #   Column  Non-Null Count  Dtype  \n",
            "---  ------  --------------  -----  \n",
            " 0   Gender  10000 non-null  object \n",
            " 1   Height  10000 non-null  float64\n",
            " 2   Weight  10000 non-null  float64\n",
            "dtypes: float64(2), object(1)\n",
            "memory usage: 234.5+ KB\n"
          ],
          "name": "stdout"
        },
        {
          "output_type": "execute_result",
          "data": {
            "text/html": [
              "<div>\n",
              "<style scoped>\n",
              "    .dataframe tbody tr th:only-of-type {\n",
              "        vertical-align: middle;\n",
              "    }\n",
              "\n",
              "    .dataframe tbody tr th {\n",
              "        vertical-align: top;\n",
              "    }\n",
              "\n",
              "    .dataframe thead th {\n",
              "        text-align: right;\n",
              "    }\n",
              "</style>\n",
              "<table border=\"1\" class=\"dataframe\">\n",
              "  <thead>\n",
              "    <tr style=\"text-align: right;\">\n",
              "      <th></th>\n",
              "      <th>Gender</th>\n",
              "      <th>Height</th>\n",
              "      <th>Weight</th>\n",
              "    </tr>\n",
              "  </thead>\n",
              "  <tbody>\n",
              "    <tr>\n",
              "      <th>0</th>\n",
              "      <td>Male</td>\n",
              "      <td>73.847017</td>\n",
              "      <td>241.893563</td>\n",
              "    </tr>\n",
              "    <tr>\n",
              "      <th>1</th>\n",
              "      <td>Male</td>\n",
              "      <td>68.781904</td>\n",
              "      <td>162.310473</td>\n",
              "    </tr>\n",
              "    <tr>\n",
              "      <th>2</th>\n",
              "      <td>Male</td>\n",
              "      <td>74.110105</td>\n",
              "      <td>212.740856</td>\n",
              "    </tr>\n",
              "    <tr>\n",
              "      <th>3</th>\n",
              "      <td>Male</td>\n",
              "      <td>71.730978</td>\n",
              "      <td>220.042470</td>\n",
              "    </tr>\n",
              "    <tr>\n",
              "      <th>4</th>\n",
              "      <td>Male</td>\n",
              "      <td>69.881796</td>\n",
              "      <td>206.349801</td>\n",
              "    </tr>\n",
              "  </tbody>\n",
              "</table>\n",
              "</div>"
            ],
            "text/plain": [
              "  Gender     Height      Weight\n",
              "0   Male  73.847017  241.893563\n",
              "1   Male  68.781904  162.310473\n",
              "2   Male  74.110105  212.740856\n",
              "3   Male  71.730978  220.042470\n",
              "4   Male  69.881796  206.349801"
            ]
          },
          "metadata": {
            "tags": []
          },
          "execution_count": 7
        }
      ]
    },
    {
      "cell_type": "code",
      "metadata": {
        "id": "NCg8ltYZmDqG",
        "colab_type": "code",
        "colab": {}
      },
      "source": [
        "#cost or loss function\n",
        "def mean_squared_error(y_true,y_pred):\n",
        "  s = (y_true - y_pred)**2\n",
        "  return np.sqrt(s.mean())\n",
        "\n",
        "#line function\n",
        "def line(X,w=0,b=0):\n",
        "  return X * w + b"
      ],
      "execution_count": 23,
      "outputs": []
    },
    {
      "cell_type": "code",
      "metadata": {
        "id": "OlFG9c6sj6ZC",
        "colab_type": "code",
        "colab": {}
      },
      "source": [
        "X = df.Height.values\n",
        "y_true = df.Weight.values"
      ],
      "execution_count": 24,
      "outputs": []
    },
    {
      "cell_type": "code",
      "metadata": {
        "id": "aWAzBPrPkMki",
        "colab_type": "code",
        "colab": {
          "base_uri": "https://localhost:8080/",
          "height": 68
        },
        "outputId": "4eba53f1-cb84-46d1-9fd7-b4a511f810d2"
      },
      "source": [
        "print(X[:5],y_true[:5], sep='\\n\\n')"
      ],
      "execution_count": 25,
      "outputs": [
        {
          "output_type": "stream",
          "text": [
            "[73.84701702 68.78190405 74.11010539 71.7309784  69.88179586]\n",
            "\n",
            "[241.89356318 162.31047252 212.74085556 220.0424703  206.34980062]\n"
          ],
          "name": "stdout"
        }
      ]
    },
    {
      "cell_type": "code",
      "metadata": {
        "id": "JAA-D4F4knw0",
        "colab_type": "code",
        "colab": {
          "base_uri": "https://localhost:8080/",
          "height": 34
        },
        "outputId": "f65bc639-f9cb-4299-901a-93dae3b983d5"
      },
      "source": [
        "X.shape"
      ],
      "execution_count": 16,
      "outputs": [
        {
          "output_type": "execute_result",
          "data": {
            "text/plain": [
              "(10000,)"
            ]
          },
          "metadata": {
            "tags": []
          },
          "execution_count": 16
        }
      ]
    },
    {
      "cell_type": "code",
      "metadata": {
        "id": "TZFLRqDWk7V8",
        "colab_type": "code",
        "colab": {}
      },
      "source": [
        "#model structure\n",
        "model = Sequential()\n",
        "model.add(Dense(1, input_shape=(1,)))"
      ],
      "execution_count": 26,
      "outputs": []
    },
    {
      "cell_type": "code",
      "metadata": {
        "id": "_24-aS-jlUA1",
        "colab_type": "code",
        "colab": {
          "base_uri": "https://localhost:8080/",
          "height": 187
        },
        "outputId": "a160168d-1b6c-4581-c8af-f725d4ae2bcc"
      },
      "source": [
        "#summary\n",
        "model.summary()"
      ],
      "execution_count": 27,
      "outputs": [
        {
          "output_type": "stream",
          "text": [
            "Model: \"sequential_2\"\n",
            "_________________________________________________________________\n",
            "Layer (type)                 Output Shape              Param #   \n",
            "=================================================================\n",
            "dense_1 (Dense)              (None, 1)                 2         \n",
            "=================================================================\n",
            "Total params: 2\n",
            "Trainable params: 2\n",
            "Non-trainable params: 0\n",
            "_________________________________________________________________\n"
          ],
          "name": "stdout"
        }
      ]
    },
    {
      "cell_type": "code",
      "metadata": {
        "id": "VkBAw9PMlcGl",
        "colab_type": "code",
        "colab": {}
      },
      "source": [
        "#compilation steps\n",
        "model.compile(Adam(lr=0.8), 'mean_squared_error')"
      ],
      "execution_count": 30,
      "outputs": []
    },
    {
      "cell_type": "code",
      "metadata": {
        "id": "akLIAmcVlwif",
        "colab_type": "code",
        "colab": {
          "base_uri": "https://localhost:8080/",
          "height": 1000
        },
        "outputId": "5b8a6a42-2f0b-4101-db73-06b9706c6018"
      },
      "source": [
        "#model training\n",
        "model.fit(X,y_true, epochs=40)"
      ],
      "execution_count": 31,
      "outputs": [
        {
          "output_type": "stream",
          "text": [
            "Epoch 1/40\n",
            "313/313 [==============================] - 0s 888us/step - loss: 849.8423\n",
            "Epoch 2/40\n",
            "313/313 [==============================] - 0s 952us/step - loss: 541.3948\n",
            "Epoch 3/40\n",
            "313/313 [==============================] - 0s 920us/step - loss: 525.2375\n",
            "Epoch 4/40\n",
            "313/313 [==============================] - 0s 907us/step - loss: 483.2820\n",
            "Epoch 5/40\n",
            "313/313 [==============================] - 0s 863us/step - loss: 426.8203\n",
            "Epoch 6/40\n",
            "313/313 [==============================] - 0s 879us/step - loss: 385.8722\n",
            "Epoch 7/40\n",
            "313/313 [==============================] - 0s 866us/step - loss: 358.4214\n",
            "Epoch 8/40\n",
            "313/313 [==============================] - 0s 885us/step - loss: 305.4210\n",
            "Epoch 9/40\n",
            "313/313 [==============================] - 0s 873us/step - loss: 283.4156\n",
            "Epoch 10/40\n",
            "313/313 [==============================] - 0s 882us/step - loss: 267.8261\n",
            "Epoch 11/40\n",
            "313/313 [==============================] - 0s 894us/step - loss: 251.2231\n",
            "Epoch 12/40\n",
            "313/313 [==============================] - 0s 849us/step - loss: 230.2645\n",
            "Epoch 13/40\n",
            "313/313 [==============================] - 0s 899us/step - loss: 218.8777\n",
            "Epoch 14/40\n",
            "313/313 [==============================] - 0s 865us/step - loss: 211.3313\n",
            "Epoch 15/40\n",
            "313/313 [==============================] - 0s 904us/step - loss: 205.6641\n",
            "Epoch 16/40\n",
            "313/313 [==============================] - 0s 867us/step - loss: 191.6474\n",
            "Epoch 17/40\n",
            "313/313 [==============================] - 0s 857us/step - loss: 181.9395\n",
            "Epoch 18/40\n",
            "313/313 [==============================] - 0s 867us/step - loss: 196.8836\n",
            "Epoch 19/40\n",
            "313/313 [==============================] - 0s 878us/step - loss: 195.0497\n",
            "Epoch 20/40\n",
            "313/313 [==============================] - 0s 882us/step - loss: 180.8329\n",
            "Epoch 21/40\n",
            "313/313 [==============================] - 0s 880us/step - loss: 176.5027\n",
            "Epoch 22/40\n",
            "313/313 [==============================] - 0s 960us/step - loss: 180.4242\n",
            "Epoch 23/40\n",
            "313/313 [==============================] - 0s 958us/step - loss: 184.8270\n",
            "Epoch 24/40\n",
            "313/313 [==============================] - 0s 880us/step - loss: 205.6437\n",
            "Epoch 25/40\n",
            "313/313 [==============================] - 0s 901us/step - loss: 176.1582\n",
            "Epoch 26/40\n",
            "313/313 [==============================] - 0s 875us/step - loss: 179.8683\n",
            "Epoch 27/40\n",
            "313/313 [==============================] - 0s 878us/step - loss: 169.2602\n",
            "Epoch 28/40\n",
            "313/313 [==============================] - 0s 883us/step - loss: 179.6846\n",
            "Epoch 29/40\n",
            "313/313 [==============================] - 0s 902us/step - loss: 174.6746\n",
            "Epoch 30/40\n",
            "313/313 [==============================] - 0s 852us/step - loss: 181.3976\n",
            "Epoch 31/40\n",
            "313/313 [==============================] - 0s 889us/step - loss: 174.6012\n",
            "Epoch 32/40\n",
            "313/313 [==============================] - 0s 1ms/step - loss: 176.9932\n",
            "Epoch 33/40\n",
            "313/313 [==============================] - 0s 967us/step - loss: 172.7437\n",
            "Epoch 34/40\n",
            "313/313 [==============================] - 0s 900us/step - loss: 177.1132\n",
            "Epoch 35/40\n",
            "313/313 [==============================] - 0s 882us/step - loss: 178.3922\n",
            "Epoch 36/40\n",
            "313/313 [==============================] - 0s 875us/step - loss: 168.8994\n",
            "Epoch 37/40\n",
            "313/313 [==============================] - 0s 884us/step - loss: 174.0518\n",
            "Epoch 38/40\n",
            "313/313 [==============================] - 0s 900us/step - loss: 175.8752\n",
            "Epoch 39/40\n",
            "313/313 [==============================] - 0s 895us/step - loss: 169.9569\n",
            "Epoch 40/40\n",
            "313/313 [==============================] - 0s 875us/step - loss: 178.1595\n"
          ],
          "name": "stdout"
        },
        {
          "output_type": "execute_result",
          "data": {
            "text/plain": [
              "<tensorflow.python.keras.callbacks.History at 0x7f31a0dda0b8>"
            ]
          },
          "metadata": {
            "tags": []
          },
          "execution_count": 31
        }
      ]
    },
    {
      "cell_type": "code",
      "metadata": {
        "id": "OS20XU2Bl-JV",
        "colab_type": "code",
        "colab": {
          "base_uri": "https://localhost:8080/",
          "height": 136
        },
        "outputId": "a31becbd-bde7-4620-ca49-857294cc2109"
      },
      "source": [
        "y_pred = model.predict(X)\n",
        "y_pred"
      ],
      "execution_count": 32,
      "outputs": [
        {
          "output_type": "execute_result",
          "data": {
            "text/plain": [
              "array([[219.18231],\n",
              "       [180.25922],\n",
              "       [221.2041 ],\n",
              "       ...,\n",
              "       [142.49802],\n",
              "       [182.1983 ],\n",
              "       [127.71484]], dtype=float32)"
            ]
          },
          "metadata": {
            "tags": []
          },
          "execution_count": 32
        }
      ]
    },
    {
      "cell_type": "code",
      "metadata": {
        "id": "6lU9OZJHni1A",
        "colab_type": "code",
        "colab": {
          "base_uri": "https://localhost:8080/",
          "height": 312
        },
        "outputId": "807c55f4-bdf5-4323-d024-4bc5f43420d9"
      },
      "source": [
        "df.plot(kind='scatter',\n",
        "       x=\"Height\",\n",
        "       y=\"Weight\",\n",
        "       title=\"Height Vs Weight with Deep learning\")\n",
        "plt.plot(X, y_pred, color=\"red\", linewidth=3)"
      ],
      "execution_count": 33,
      "outputs": [
        {
          "output_type": "execute_result",
          "data": {
            "text/plain": [
              "[<matplotlib.lines.Line2D at 0x7f319e0174a8>]"
            ]
          },
          "metadata": {
            "tags": []
          },
          "execution_count": 33
        },
        {
          "output_type": "display_data",
          "data": {
            "image/png": "[encoded data removed]",
            "text/plain": [
              "<Figure size 432x288 with 1 Axes>"
            ]
          },
          "metadata": {
            "tags": [],
            "needs_background": "light"
          }
        }
      ]
    },
    {
      "cell_type": "code",
      "metadata": {
        "id": "ocJL1D7mnqrh",
        "colab_type": "code",
        "colab": {
          "base_uri": "https://localhost:8080/",
          "height": 34
        },
        "outputId": "8728cc83-d06d-47a1-b564-eb65756a91a1"
      },
      "source": [
        "w, b = model.get_weights()\n",
        "print(w,b)\n"
      ],
      "execution_count": 34,
      "outputs": [
        {
          "output_type": "stream",
          "text": [
            "[[7.6845527]] [-348.29895]\n"
          ],
          "name": "stdout"
        }
      ]
    },
    {
      "cell_type": "code",
      "metadata": {
        "id": "o1Cx0ceWnu1F",
        "colab_type": "code",
        "colab": {
          "base_uri": "https://localhost:8080/",
          "height": 329
        },
        "outputId": "a7fdd795-23c9-4a1b-d5ee-1881a5914706"
      },
      "source": [
        "i = int(input(\"Enter Height in Number\"))\n",
        "j = model.predict([[i]])\n",
        "\n",
        "df.plot(kind='scatter',\n",
        "       x=\"Height\",\n",
        "       y=\"Weight\",\n",
        "       title=\"Height Vs Weight with Deep learning\")\n",
        "plt.plot(X, y_pred, color=\"red\", linewidth=3)\n",
        "plt.scatter(i,j, color='green')"
      ],
      "execution_count": 38,
      "outputs": [
        {
          "output_type": "stream",
          "text": [
            "Enter Height in Number66\n"
          ],
          "name": "stdout"
        },
        {
          "output_type": "execute_result",
          "data": {
            "text/plain": [
              "<matplotlib.collections.PathCollection at 0x7f319a95e358>"
            ]
          },
          "metadata": {
            "tags": []
          },
          "execution_count": 38
        },
        {
          "output_type": "display_data",
          "data": {
            "image/png": "[encoded data removed]",
            "text/plain": [
              "<Figure size 432x288 with 1 Axes>"
            ]
          },
          "metadata": {
            "tags": [],
            "needs_background": "light"
          }
        }
      ]
    },
    {
      "cell_type": "code",
      "metadata": {
        "id": "3eGrFfkXn3st",
        "colab_type": "code",
        "colab": {}
      },
      "source": [
        "model.save(\"./weight_height_model.h5\")\n"
      ],
      "execution_count": 39,
      "outputs": []
    },
    {
      "cell_type": "code",
      "metadata": {
        "id": "S0lZJkSUoQ67",
        "colab_type": "code",
        "colab": {}
      },
      "source": [
        ""
      ],
      "execution_count": null,
      "outputs": []
    }
  ]
}